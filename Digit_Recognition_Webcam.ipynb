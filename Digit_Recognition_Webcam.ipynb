{
 "cells": [
  {
   "cell_type": "code",
   "execution_count": null,
   "metadata": {},
   "outputs": [],
   "source": [
    "import cv2\n",
    "import numpy as np\n",
    "\n",
    "import imutils\n",
    "\n",
    "from keras.models import load_model"
   ]
  },
  {
   "cell_type": "code",
   "execution_count": null,
   "metadata": {},
   "outputs": [],
   "source": [
    "model = load_model(\"harryTest.h5\") # load the trained model \n",
    "\n",
    "cap = cv2.VideoCapture(0)\n",
    "\n",
    "while(True):\n",
    "    ret, frame = cap.read()\n",
    "    # preprocess the image by converting it to grayscale, binary image\n",
    "    gray = cv2.cvtColor(frame, cv2.COLOR_BGR2GRAY)\n",
    "    thresh = cv2.threshold(gray.copy(), 127, 255, cv2.THRESH_BINARY_INV)[1]\n",
    "    # find contours in the thresh, then sort them by their size in descending order\n",
    "    cnts = cv2.findContours(thresh.copy(), cv2.RETR_EXTERNAL, cv2.CHAIN_APPROX_SIMPLE)\n",
    "    cnts = imutils.grab_contours(cnts)\n",
    "    cnts = sorted(cnts, key=cv2.contourArea, reverse = True)\n",
    "    digitCnts = cnts[0:4] # the first 5 largest contours\n",
    "    for c in digitCnts:\n",
    "        (x, y, w, h) = cv2.boundingRect(c) # bounding rectangles\n",
    "\n",
    "        # extract the digit ROI from thresh (binary)\n",
    "        roi = thresh[y:y+h, x:x+w]\n",
    "        d = max(h, w)\n",
    "    \n",
    "        square_roi = np.zeros((d, d))\n",
    "    \n",
    "        # square roi\n",
    "        if h == d:\n",
    "            square_roi[0:h, int(h/2 - w/2):int(h/2 + w/2)] = roi # broadcast the roi into the middle the square image\n",
    "        \n",
    "        elif w == d:\n",
    "            square_roi[int(w/2 - h/2):int(w/2 + h/2), 0:w] = roi\n",
    "    \n",
    "        # resize the squared roi\n",
    "        resize_roi = cv2.resize(square_roi, (28, 28))\n",
    "    \n",
    "        # reshape the 28 by 28 roi to match the requirements in the model\n",
    "        test_image = np.reshape(resize_roi, [1, 28, 28, 1])\n",
    "    \n",
    "        # predict the digit\n",
    "        predict_digit = np.argmax(model.predict(test_image), axis=-1)\n",
    "    \n",
    "        # draw the rectangle around the digits\n",
    "        cv2.rectangle(frame,(x,y), (x+w, y+h), (255, 255, 0), 10)\n",
    "    \n",
    "        # show the predicted digits on the image\n",
    "        cv2.putText(frame, str(predict_digit), (x-30, y-70),\n",
    "               cv2.FONT_HERSHEY_SIMPLEX, 4, (255, 255, 0), 10)\n",
    "        cv2.imshow(\"d\", frame)\n",
    "        \n",
    "        \n",
    "        if cv2.waitKey(1) & 0xFF == ord('q'):\n",
    "            break\n",
    "\n",
    "cap.release()\n",
    "cv2.destroyAllWindows()\n"
   ]
  },
  {
   "cell_type": "code",
   "execution_count": null,
   "metadata": {},
   "outputs": [],
   "source": []
  }
 ],
 "metadata": {
  "kernelspec": {
   "display_name": "Python 3",
   "language": "python",
   "name": "python3"
  },
  "language_info": {
   "codemirror_mode": {
    "name": "ipython",
    "version": 3
   },
   "file_extension": ".py",
   "mimetype": "text/x-python",
   "name": "python",
   "nbconvert_exporter": "python",
   "pygments_lexer": "ipython3",
   "version": "3.8.3"
  }
 },
 "nbformat": 4,
 "nbformat_minor": 4
}
